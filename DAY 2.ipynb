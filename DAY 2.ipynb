{
 "cells": [
  {
   "cell_type": "markdown",
   "id": "8d074ec6",
   "metadata": {},
   "source": [
    "# DAY 2\n",
    "\n",
    "Create a List, tuple and Dictionary with 5 elements in it and how to access few elements based on the index. Try  with different examples"
   ]
  },
  {
   "cell_type": "code",
   "execution_count": 1,
   "id": "632e9eb9",
   "metadata": {},
   "outputs": [
    {
     "name": "stdout",
     "output_type": "stream",
     "text": [
      "Apple\n",
      "Cherry\n",
      "Elderberry\n"
     ]
    }
   ],
   "source": [
    "# Create a List\n",
    "fruits = [\"Apple\", \"Banana\", \"Cherry\", \"Date\", \"Elderberry\"]\n",
    "print(fruits[0]) \n",
    "print(fruits[2])  \n",
    "print(fruits[-1]) "
   ]
  },
  {
   "cell_type": "code",
   "execution_count": 2,
   "id": "3602de21",
   "metadata": {},
   "outputs": [
    {
     "name": "stdout",
     "output_type": "stream",
     "text": [
      "20\n",
      "40\n"
     ]
    }
   ],
   "source": [
    "# Create a Tuple\n",
    "numbers = (10, 20, 30, 40, 50)\n",
    "print(numbers[1])  \n",
    "print(numbers[-2]) "
   ]
  },
  {
   "cell_type": "code",
   "execution_count": 3,
   "id": "a96206f6",
   "metadata": {},
   "outputs": [
    {
     "name": "stdout",
     "output_type": "stream",
     "text": [
      "Alice\n",
      "Reading\n"
     ]
    }
   ],
   "source": [
    "# Create a Dictionary\n",
    "person = {\n",
    "    \"name\": \"Alice\",\n",
    "    \"age\": 25,\n",
    "    \"city\": \"New York\",\n",
    "    \"job\": \"Engineer\",\n",
    "    \"hobby\": \"Reading\"\n",
    "}\n",
    "print(person[\"name\"])  \n",
    "print(person[\"hobby\"]) \n"
   ]
  },
  {
   "cell_type": "code",
   "execution_count": null,
   "id": "fbd8d4c9",
   "metadata": {},
   "outputs": [],
   "source": []
  }
 ],
 "metadata": {
  "kernelspec": {
   "display_name": "Python 3 (ipykernel)",
   "language": "python",
   "name": "python3"
  },
  "language_info": {
   "codemirror_mode": {
    "name": "ipython",
    "version": 3
   },
   "file_extension": ".py",
   "mimetype": "text/x-python",
   "name": "python",
   "nbconvert_exporter": "python",
   "pygments_lexer": "ipython3",
   "version": "3.9.12"
  }
 },
 "nbformat": 4,
 "nbformat_minor": 5
}
