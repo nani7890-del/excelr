{
 "cells": [
  {
   "cell_type": "markdown",
   "id": "ae15443a",
   "metadata": {},
   "source": [
    "# DAY 4\n",
    "\n",
    "Write a Python program to calculate the sum of all even numbers between 1 and a given positive integer n."
   ]
  },
  {
   "cell_type": "code",
   "execution_count": 2,
   "id": "8bbc1afc",
   "metadata": {},
   "outputs": [
    {
     "name": "stdout",
     "output_type": "stream",
     "text": [
      "Enter a positive integer: 3\n",
      "The sum of all even numbers between 1 and 3 is: 2\n"
     ]
    }
   ],
   "source": [
    "n = int(input(\"Enter a positive integer: \"))\n",
    "even_sum = sum(i for i in range(2, n + 1, 2))\n",
    "print(f\"The sum of all even numbers between 1 and {n} is: {even_sum}\")"
   ]
  },
  {
   "cell_type": "code",
   "execution_count": null,
   "id": "96d03ad0",
   "metadata": {},
   "outputs": [],
   "source": []
  }
 ],
 "metadata": {
  "kernelspec": {
   "display_name": "Python 3 (ipykernel)",
   "language": "python",
   "name": "python3"
  },
  "language_info": {
   "codemirror_mode": {
    "name": "ipython",
    "version": 3
   },
   "file_extension": ".py",
   "mimetype": "text/x-python",
   "name": "python",
   "nbconvert_exporter": "python",
   "pygments_lexer": "ipython3",
   "version": "3.9.12"
  }
 },
 "nbformat": 4,
 "nbformat_minor": 5
}
